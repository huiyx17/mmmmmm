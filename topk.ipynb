{
 "cells": [
  {
   "cell_type": "code",
   "execution_count": 5,
   "metadata": {},
   "outputs": [],
   "source": [
    "class maxheap:\n",
    "    def __init__(self):\n",
    "        self.List = [0]\n",
    "        self.size = 0\n",
    "    def max_heapify(self, i):\n",
    "        self.size = len(self.List) - 1\n",
    "        maxnode = i\n",
    "        if (i * 2) <= self.size:\n",
    "            if self.List[2 * i] > self.List[i]:\n",
    "                self.List[2 * i], self.List[i] = self.List[i], self.List[2 * i]\n",
    "                maxnode = 2 * i\n",
    "                self.max_heapify(maxnode)\n",
    "        if (i * 2 + 1) <= self.size:\n",
    "            if self.List[2 * i + 1] > self.List[i]:\n",
    "                self.List[2 * i + 1], self.List[i] = self.List[i], self.List[2 * i + 1]\n",
    "                maxnode = 2 * i + 1\n",
    "                self.max_heapify(maxnode)\n",
    "    def build_heap(self, alist):\n",
    "        mid = len(alist) // 2\n",
    "        self.size = len(alist)\n",
    "        self.List = [0] + alist\n",
    "        while mid > 0:\n",
    "            self.max_heapify(mid)\n",
    "            mid -= 1"
   ]
  },
  {
   "cell_type": "code",
   "execution_count": 15,
   "metadata": {},
   "outputs": [],
   "source": [
    "def topk(nums, k):\n",
    "    t = maxheap()\n",
    "    t.build_heap(nums)\n",
    "    for i in range(k):\n",
    "        t.List[-1], t.List[1] = t.List[1], t.List[-1]\n",
    "        result = t.List.pop()\n",
    "        t.max_heapify(1)\n",
    "    return result"
   ]
  },
  {
   "cell_type": "code",
   "execution_count": 16,
   "metadata": {},
   "outputs": [],
   "source": [
    "l = [3, 1, 2, 4, 9, 16, 10, 14, 7, 8]"
   ]
  },
  {
   "cell_type": "code",
   "execution_count": 17,
   "metadata": {},
   "outputs": [
    {
     "data": {
      "text/plain": [
       "10"
      ]
     },
     "execution_count": 17,
     "metadata": {},
     "output_type": "execute_result"
    }
   ],
   "source": [
    "topk(l,3)"
   ]
  },
  {
   "cell_type": "code",
   "execution_count": null,
   "metadata": {},
   "outputs": [],
   "source": []
  }
 ],
 "metadata": {
  "kernelspec": {
   "display_name": "Python 3",
   "language": "python",
   "name": "python3"
  },
  "language_info": {
   "codemirror_mode": {
    "name": "ipython",
    "version": 3
   },
   "file_extension": ".py",
   "mimetype": "text/x-python",
   "name": "python",
   "nbconvert_exporter": "python",
   "pygments_lexer": "ipython3",
   "version": "3.7.0"
  }
 },
 "nbformat": 4,
 "nbformat_minor": 2
}
