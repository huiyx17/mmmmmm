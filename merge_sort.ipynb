{
 "cells": [
  {
   "cell_type": "code",
   "execution_count": 11,
   "metadata": {},
   "outputs": [
    {
     "name": "stdout",
     "output_type": "stream",
     "text": [
      "[2, 3, 4, 7, 8, 9]\n"
     ]
    }
   ],
   "source": [
    "l = [2,9 ,7, 8, 3, 4]\n",
    "\n",
    "def merge_sort(l):\n",
    "    if len(l) <= 1:\n",
    "        return l\n",
    "    mid = len(l) // 2\n",
    "    left = l[:mid]\n",
    "    right = l[mid:]\n",
    "    left = merge_sort(left)\n",
    "    right = merge_sort(right)\n",
    "    return merge(left, right)\n",
    "\n",
    "def merge(left, right):\n",
    "    i, j = 0, 0\n",
    "    result = []\n",
    "    while i < len(left) and j < len(right):\n",
    "        if left[i] < right[j]:\n",
    "            result.append(left[i])\n",
    "            i += 1\n",
    "        else:\n",
    "            result.append(right[j])\n",
    "            j += 1\n",
    "    if i >= len(left):\n",
    "        result.extend(right[j:])\n",
    "    if j >= len(right):\n",
    "        result.extend(left[i:])\n",
    "\n",
    "    return result\n",
    "    \n",
    "\n",
    "print(merge_sort(l))"
   ]
  },
  {
   "cell_type": "code",
   "execution_count": null,
   "metadata": {},
   "outputs": [],
   "source": []
  }
 ],
 "metadata": {
  "kernelspec": {
   "display_name": "Python 3",
   "language": "python",
   "name": "python3"
  },
  "language_info": {
   "codemirror_mode": {
    "name": "ipython",
    "version": 3
   },
   "file_extension": ".py",
   "mimetype": "text/x-python",
   "name": "python",
   "nbconvert_exporter": "python",
   "pygments_lexer": "ipython3",
   "version": "3.7.1"
  }
 },
 "nbformat": 4,
 "nbformat_minor": 2
}
