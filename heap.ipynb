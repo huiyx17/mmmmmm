{
 "cells": [
  {
   "cell_type": "code",
   "execution_count": 43,
   "metadata": {},
   "outputs": [],
   "source": [
    "class Heap:\n",
    "    def __init__(self):\n",
    "        self.heapList = [0]\n",
    "        self.size = 0\n",
    "    #i节点的堆化函数\n",
    "    def max_heapify(self,i):\n",
    "        max_c = self.max_child(i)\n",
    "        if max_c != i:\n",
    "            self.heapList[max_c], self.heapList[i]=self.heapList[i], self.heapList[max_c]\n",
    "            self.max_heapify(max_c)\n",
    "    def max_child(self, i):\n",
    "        left = i * 2\n",
    "        right = i * 2 + 1\n",
    "        if left <= self.size and self.heapList[left] > self.heapList[i]:\n",
    "            max_c = left\n",
    "        else:\n",
    "            max_c = i\n",
    "        if right <= self.size and self.heapList[right] > self.heapList[max_c]:\n",
    "            max_c = right\n",
    "        return max_c\n",
    "    def build_heap(self, l):\n",
    "        if len(l) <= 1:\n",
    "            return l\n",
    "        mid = len(l) // 2\n",
    "        self.size = len(l)\n",
    "        self.heapList = [0] + l\n",
    "        while mid > 0:\n",
    "            self.max_heapify(mid)\n",
    "            mid -= 1\n",
    "    def heapsort(self,l):\n",
    "        result = []\n",
    "        self.build_heap(l)\n",
    "        i = len(l)\n",
    "        while i > 1:\n",
    "            self.heapList[1], self.heapList[i] = self.heapList[i], self.heapList[1]\n",
    "            result.append(self.heapList.pop())\n",
    "            self.size -= 1\n",
    "            self.max_heapify(1)\n",
    "            i -= 1\n",
    "        return result"
   ]
  },
  {
   "cell_type": "code",
   "execution_count": 44,
   "metadata": {},
   "outputs": [
    {
     "data": {
      "text/plain": [
       "[16, 14, 10, 9, 8, 7, 4, 3, 2]"
      ]
     },
     "execution_count": 44,
     "metadata": {},
     "output_type": "execute_result"
    }
   ],
   "source": [
    "l = [3,1,2,4,9,16,10,14,7,8]\n",
    "h = Heap()\n",
    "h.heapsort(l)"
   ]
  },
  {
   "cell_type": "code",
   "execution_count": null,
   "metadata": {},
   "outputs": [],
   "source": []
  }
 ],
 "metadata": {
  "kernelspec": {
   "display_name": "Python 3",
   "language": "python",
   "name": "python3"
  },
  "language_info": {
   "codemirror_mode": {
    "name": "ipython",
    "version": 3
   },
   "file_extension": ".py",
   "mimetype": "text/x-python",
   "name": "python",
   "nbconvert_exporter": "python",
   "pygments_lexer": "ipython3",
   "version": "3.7.1"
  }
 },
 "nbformat": 4,
 "nbformat_minor": 2
}
